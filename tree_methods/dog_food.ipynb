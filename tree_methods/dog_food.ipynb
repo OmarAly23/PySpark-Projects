{
 "cells": [
  {
   "cell_type": "code",
   "execution_count": 0,
   "metadata": {
    "application/vnd.databricks.v1+cell": {
     "cellMetadata": {
      "byteLimit": 2048000,
      "rowLimit": 10000
     },
     "inputWidgets": {},
     "nuid": "3352406b-275d-451f-bed4-98e19d79e5ba",
     "showTitle": false,
     "title": ""
    }
   },
   "outputs": [],
   "source": [
    "import pyspark\n",
    "from pyspark.sql import SparkSession\n",
    "from pyspark.ml import Pipeline\n",
    "from pyspark.ml.feature import VectorAssembler, StringIndexer\n",
    "from pyspark.ml.classification import RandomForestClassifier, GBTClassifier, DecisionTreeClassifier\n",
    "from pyspark.ml.evaluation import MulticlassClassificationEvaluator, BinaryClassificationEvaluator\n",
    "\n",
    "spark = SparkSession.builder.appName('mytree').getOrCreate()"
   ]
  },
  {
   "cell_type": "code",
   "execution_count": 0,
   "metadata": {
    "application/vnd.databricks.v1+cell": {
     "cellMetadata": {
      "byteLimit": 2048000,
      "rowLimit": 10000
     },
     "inputWidgets": {},
     "nuid": "2c5f891a-2b97-4171-a128-0f54e6abfd3a",
     "showTitle": false,
     "title": ""
    }
   },
   "outputs": [],
   "source": [
    "data = spark.read.csv('/FileStore/tables/dog_food.csv', inferSchema=True, header=True)"
   ]
  },
  {
   "cell_type": "code",
   "execution_count": 0,
   "metadata": {
    "application/vnd.databricks.v1+cell": {
     "cellMetadata": {
      "byteLimit": 2048000,
      "rowLimit": 10000
     },
     "inputWidgets": {},
     "nuid": "b082adda-e227-4c0e-bc31-d1ff0fc67a18",
     "showTitle": false,
     "title": ""
    }
   },
   "outputs": [
    {
     "output_type": "stream",
     "name": "stdout",
     "output_type": "stream",
     "text": [
      "root\n |-- A: integer (nullable = true)\n |-- B: integer (nullable = true)\n |-- C: double (nullable = true)\n |-- D: integer (nullable = true)\n |-- Spoiled: double (nullable = true)\n\n"
     ]
    }
   ],
   "source": [
    "data.printSchema()"
   ]
  },
  {
   "cell_type": "code",
   "execution_count": 0,
   "metadata": {
    "application/vnd.databricks.v1+cell": {
     "cellMetadata": {
      "byteLimit": 2048000,
      "rowLimit": 10000
     },
     "inputWidgets": {},
     "nuid": "7cb99b2d-e0ae-4c6b-a386-f6b2c9886c6e",
     "showTitle": false,
     "title": ""
    }
   },
   "outputs": [
    {
     "output_type": "stream",
     "name": "stdout",
     "output_type": "stream",
     "text": [
      "+-------+------------------+------------------+------------------+------------------+-------------------+\n|summary|                 A|                 B|                 C|                 D|            Spoiled|\n+-------+------------------+------------------+------------------+------------------+-------------------+\n|  count|               490|               490|               490|               490|                490|\n|   mean|  5.53469387755102| 5.504081632653061| 9.126530612244897| 5.579591836734694| 0.2857142857142857|\n| stddev|2.9515204234399057|2.8537966089662063|2.0555451971054275|2.8548369309982857|0.45221563164613465|\n|    min|                 1|                 1|               5.0|                 1|                0.0|\n|    max|                10|                10|              14.0|                10|                1.0|\n+-------+------------------+------------------+------------------+------------------+-------------------+\n\n"
     ]
    }
   ],
   "source": [
    "data.describe().show()"
   ]
  },
  {
   "cell_type": "code",
   "execution_count": 0,
   "metadata": {
    "application/vnd.databricks.v1+cell": {
     "cellMetadata": {
      "byteLimit": 2048000,
      "rowLimit": 10000
     },
     "inputWidgets": {},
     "nuid": "49057141-9f9a-465b-88fd-fb76854a9afa",
     "showTitle": false,
     "title": ""
    }
   },
   "outputs": [
    {
     "output_type": "stream",
     "name": "stdout",
     "output_type": "stream",
     "text": [
      "+---+---+----+---+-------+\n|  A|  B|   C|  D|Spoiled|\n+---+---+----+---+-------+\n|  4|  2|12.0|  3|    1.0|\n|  5|  6|12.0|  7|    1.0|\n|  6|  2|13.0|  6|    1.0|\n|  4|  2|12.0|  1|    1.0|\n|  4|  2|12.0|  3|    1.0|\n| 10|  3|13.0|  9|    1.0|\n|  8|  5|14.0|  5|    1.0|\n|  5|  8|12.0|  8|    1.0|\n|  6|  5|12.0|  9|    1.0|\n|  3|  3|12.0|  1|    1.0|\n|  9|  8|11.0|  3|    1.0|\n|  1| 10|12.0|  3|    1.0|\n|  1|  5|13.0| 10|    1.0|\n|  2| 10|12.0|  6|    1.0|\n|  1| 10|11.0|  4|    1.0|\n|  5|  3|12.0|  2|    1.0|\n|  4|  9|11.0|  8|    1.0|\n|  5|  1|11.0|  1|    1.0|\n|  4|  9|12.0| 10|    1.0|\n|  5|  8|10.0|  9|    1.0|\n+---+---+----+---+-------+\nonly showing top 20 rows\n\n"
     ]
    }
   ],
   "source": [
    "data.show()"
   ]
  },
  {
   "cell_type": "code",
   "execution_count": 0,
   "metadata": {
    "application/vnd.databricks.v1+cell": {
     "cellMetadata": {
      "byteLimit": 2048000,
      "rowLimit": 10000
     },
     "inputWidgets": {},
     "nuid": "d35b3fd1-82b3-411b-9cbb-3288463d0b25",
     "showTitle": false,
     "title": ""
    }
   },
   "outputs": [],
   "source": [
    "assembler = VectorAssembler(inputCols=['A', 'B', 'C', 'D'], outputCol='features')"
   ]
  },
  {
   "cell_type": "code",
   "execution_count": 0,
   "metadata": {
    "application/vnd.databricks.v1+cell": {
     "cellMetadata": {
      "byteLimit": 2048000,
      "rowLimit": 10000
     },
     "inputWidgets": {},
     "nuid": "a89534f7-48d9-4da7-b2a8-35d7fa55cc61",
     "showTitle": false,
     "title": ""
    }
   },
   "outputs": [],
   "source": [
    "output = assembler.transform(data)"
   ]
  },
  {
   "cell_type": "code",
   "execution_count": 0,
   "metadata": {
    "application/vnd.databricks.v1+cell": {
     "cellMetadata": {
      "byteLimit": 2048000,
      "rowLimit": 10000
     },
     "inputWidgets": {},
     "nuid": "1a5bd8cf-7429-456b-9bdc-84bf93e6a9f7",
     "showTitle": false,
     "title": ""
    }
   },
   "outputs": [
    {
     "output_type": "stream",
     "name": "stdout",
     "output_type": "stream",
     "text": [
      "root\n |-- A: integer (nullable = true)\n |-- B: integer (nullable = true)\n |-- C: double (nullable = true)\n |-- D: integer (nullable = true)\n |-- Spoiled: double (nullable = true)\n |-- features: vector (nullable = true)\n\n"
     ]
    }
   ],
   "source": [
    "output.printSchema()"
   ]
  },
  {
   "cell_type": "code",
   "execution_count": 0,
   "metadata": {
    "application/vnd.databricks.v1+cell": {
     "cellMetadata": {
      "byteLimit": 2048000,
      "rowLimit": 10000
     },
     "inputWidgets": {},
     "nuid": "14fbe087-2372-4035-96d2-0433e68cbab7",
     "showTitle": false,
     "title": ""
    }
   },
   "outputs": [],
   "source": [
    "train_data, test_data = output.randomSplit([0.7, 0.3])"
   ]
  },
  {
   "cell_type": "code",
   "execution_count": 0,
   "metadata": {
    "application/vnd.databricks.v1+cell": {
     "cellMetadata": {
      "byteLimit": 2048000,
      "rowLimit": 10000
     },
     "inputWidgets": {},
     "nuid": "bf957ec2-b53f-47b4-b39c-790e2358a938",
     "showTitle": false,
     "title": ""
    }
   },
   "outputs": [],
   "source": [
    "rfc = RandomForestClassifier(labelCol='Spoiled' ,featuresCol='features')"
   ]
  },
  {
   "cell_type": "code",
   "execution_count": 0,
   "metadata": {
    "application/vnd.databricks.v1+cell": {
     "cellMetadata": {
      "byteLimit": 2048000,
      "rowLimit": 10000
     },
     "inputWidgets": {},
     "nuid": "1887ce52-0621-4ed9-a437-62a3f0ad9931",
     "showTitle": false,
     "title": ""
    }
   },
   "outputs": [],
   "source": [
    "rfc_model = rfc.fit(train_data)"
   ]
  },
  {
   "cell_type": "code",
   "execution_count": 0,
   "metadata": {
    "application/vnd.databricks.v1+cell": {
     "cellMetadata": {
      "byteLimit": 2048000,
      "rowLimit": 10000
     },
     "inputWidgets": {},
     "nuid": "83b7d0f1-508c-40c2-b13d-3493e0a5a540",
     "showTitle": false,
     "title": ""
    }
   },
   "outputs": [],
   "source": [
    "rfc_preds = rfc_model.transform(test_data)"
   ]
  },
  {
   "cell_type": "code",
   "execution_count": 0,
   "metadata": {
    "application/vnd.databricks.v1+cell": {
     "cellMetadata": {
      "byteLimit": 2048000,
      "rowLimit": 10000
     },
     "inputWidgets": {},
     "nuid": "3ea96f62-bcb9-484f-9f16-878a3743960b",
     "showTitle": false,
     "title": ""
    }
   },
   "outputs": [
    {
     "output_type": "stream",
     "name": "stdout",
     "output_type": "stream",
     "text": [
      "+---+---+----+---+-------+-------------------+--------------------+--------------------+----------+\n|  A|  B|   C|  D|Spoiled|           features|       rawPrediction|         probability|prediction|\n+---+---+----+---+-------+-------------------+--------------------+--------------------+----------+\n|  1|  1|12.0|  2|    1.0| [1.0,1.0,12.0,2.0]|          [0.0,20.0]|           [0.0,1.0]|       1.0|\n|  1|  3| 8.0|  3|    0.0|  [1.0,3.0,8.0,3.0]|[19.8178769331190...|[0.99089384665595...|       0.0|\n|  1|  3| 9.0|  8|    0.0|  [1.0,3.0,9.0,8.0]|[19.8178769331190...|[0.99089384665595...|       0.0|\n|  1|  4| 8.0|  1|    0.0|  [1.0,4.0,8.0,1.0]|[19.7437895888984...|[0.98718947944492...|       0.0|\n|  1|  4| 8.0|  7|    0.0|  [1.0,4.0,8.0,7.0]|[19.8178769331190...|[0.99089384665595...|       0.0|\n|  1|  4| 9.0|  6|    0.0|  [1.0,4.0,9.0,6.0]|[19.8178769331190...|[0.99089384665595...|       0.0|\n|  1|  5|13.0| 10|    1.0|[1.0,5.0,13.0,10.0]|          [1.0,19.0]|         [0.05,0.95]|       1.0|\n|  1|  6| 8.0|  3|    0.0|  [1.0,6.0,8.0,3.0]|[19.8281862114695...|[0.99140931057347...|       0.0|\n|  1|  6|11.0| 10|    1.0|[1.0,6.0,11.0,10.0]|          [1.0,19.0]|         [0.05,0.95]|       1.0|\n|  1|  7| 7.0|  2|    0.0|  [1.0,7.0,7.0,2.0]|[19.7443427696879...|[0.98721713848439...|       0.0|\n|  1|  7|11.0| 10|    1.0|[1.0,7.0,11.0,10.0]|          [0.0,20.0]|           [0.0,1.0]|       1.0|\n|  1|  8| 7.0| 10|    0.0| [1.0,8.0,7.0,10.0]|[18.8465388499208...|[0.94232694249604...|       0.0|\n|  2|  1| 7.0|  9|    0.0|  [2.0,1.0,7.0,9.0]|[19.8562788905031...|[0.99281394452515...|       0.0|\n|  2|  1| 9.0|  1|    0.0|  [2.0,1.0,9.0,1.0]|[19.8394311564816...|[0.99197155782408...|       0.0|\n|  2|  1|10.0|  7|    0.0| [2.0,1.0,10.0,7.0]|[12.3495818203315...|[0.61747909101657...|       0.0|\n|  2|  1|10.0|  7|    0.0| [2.0,1.0,10.0,7.0]|[12.3495818203315...|[0.61747909101657...|       0.0|\n|  2|  2| 8.0|  1|    0.0|  [2.0,2.0,8.0,1.0]|[19.7306891522172...|[0.98653445761086...|       0.0|\n|  2|  3| 6.0|  9|    0.0|  [2.0,3.0,6.0,9.0]|[19.7970881479851...|[0.98985440739925...|       0.0|\n|  2|  3|12.0|  3|    1.0| [2.0,3.0,12.0,3.0]|          [0.0,20.0]|           [0.0,1.0]|       1.0|\n|  2|  3|13.0|  1|    1.0| [2.0,3.0,13.0,1.0]|          [0.0,20.0]|           [0.0,1.0]|       1.0|\n+---+---+----+---+-------+-------------------+--------------------+--------------------+----------+\nonly showing top 20 rows\n\n"
     ]
    }
   ],
   "source": [
    "rfc_preds.show()"
   ]
  },
  {
   "cell_type": "code",
   "execution_count": 0,
   "metadata": {
    "application/vnd.databricks.v1+cell": {
     "cellMetadata": {
      "byteLimit": 2048000,
      "rowLimit": 10000
     },
     "inputWidgets": {},
     "nuid": "ee642a9d-3b5d-44ae-97af-9d4306048647",
     "showTitle": false,
     "title": ""
    }
   },
   "outputs": [],
   "source": [
    "my_binary_eval = BinaryClassificationEvaluator(labelCol='Spoiled')"
   ]
  },
  {
   "cell_type": "code",
   "execution_count": 0,
   "metadata": {
    "application/vnd.databricks.v1+cell": {
     "cellMetadata": {
      "byteLimit": 2048000,
      "rowLimit": 10000
     },
     "inputWidgets": {},
     "nuid": "8523b3e0-ba47-42ff-9525-56022daee20a",
     "showTitle": false,
     "title": ""
    }
   },
   "outputs": [
    {
     "output_type": "stream",
     "name": "stdout",
     "output_type": "stream",
     "text": [
      "Random Forest Evaluator: \n0.9922182821118991\n"
     ]
    }
   ],
   "source": [
    "print('Random Forest Evaluator: ')\n",
    "print(my_binary_eval.evaluate(rfc_preds))"
   ]
  },
  {
   "cell_type": "code",
   "execution_count": 0,
   "metadata": {
    "application/vnd.databricks.v1+cell": {
     "cellMetadata": {
      "byteLimit": 2048000,
      "rowLimit": 10000
     },
     "inputWidgets": {},
     "nuid": "882be590-b8ec-4011-a864-f020bbe395bb",
     "showTitle": false,
     "title": ""
    }
   },
   "outputs": [],
   "source": [
    "acc_evaluator = MulticlassClassificationEvaluator(labelCol=\"Spoiled\", predictionCol=\"prediction\", metricName=\"accuracy\")"
   ]
  },
  {
   "cell_type": "code",
   "execution_count": 0,
   "metadata": {
    "application/vnd.databricks.v1+cell": {
     "cellMetadata": {
      "byteLimit": 2048000,
      "rowLimit": 10000
     },
     "inputWidgets": {},
     "nuid": "56952e95-19d8-43ed-88c4-c8e7556e2d08",
     "showTitle": false,
     "title": ""
    }
   },
   "outputs": [],
   "source": [
    "rfc_acc = acc_evaluator.evaluate(rfc_preds)"
   ]
  },
  {
   "cell_type": "code",
   "execution_count": 0,
   "metadata": {
    "application/vnd.databricks.v1+cell": {
     "cellMetadata": {
      "byteLimit": 2048000,
      "rowLimit": 10000
     },
     "inputWidgets": {},
     "nuid": "a374f550-8971-4436-bf12-75d2a53a1225",
     "showTitle": false,
     "title": ""
    }
   },
   "outputs": [
    {
     "output_type": "stream",
     "name": "stdout",
     "output_type": "stream",
     "text": [
      "Out[24]: SparseVector(4, {0: 0.0285, 1: 0.026, 2: 0.9224, 3: 0.0232})"
     ]
    }
   ],
   "source": [
    "rfc_model.featureImportances"
   ]
  },
  {
   "cell_type": "code",
   "execution_count": 0,
   "metadata": {
    "application/vnd.databricks.v1+cell": {
     "cellMetadata": {
      "byteLimit": 2048000,
      "rowLimit": 10000
     },
     "inputWidgets": {},
     "nuid": "f44c9cdd-db6b-44ab-899c-57a87a64fcdd",
     "showTitle": false,
     "title": ""
    }
   },
   "outputs": [
    {
     "output_type": "stream",
     "name": "stdout",
     "output_type": "stream",
     "text": [
      "Here are the results!\n--------------------------------------------------------------------------------\nA random forest ensemble had an accuracy of: 98.71%\n"
     ]
    }
   ],
   "source": [
    "print(\"Here are the results!\")\n",
    "print('-'*80)\n",
    "print('A random forest ensemble had an accuracy of: {0:2.2f}%'.format(rfc_acc*100))"
   ]
  },
  {
   "cell_type": "markdown",
   "metadata": {
    "application/vnd.databricks.v1+cell": {
     "cellMetadata": {},
     "inputWidgets": {},
     "nuid": "36246505-5675-4cd7-999f-8e3ca8f87478",
     "showTitle": false,
     "title": ""
    }
   },
   "source": [
    "Given that feature importance shows that Chemical C has the highest score it can be concluded that it is the preservative that is causing the spoil"
   ]
  }
 ],
 "metadata": {
  "application/vnd.databricks.v1+notebook": {
   "dashboards": [],
   "language": "python",
   "notebookMetadata": {
    "pythonIndentUnit": 4
   },
   "notebookName": "dog_food",
   "widgets": {}
  }
 },
 "nbformat": 4,
 "nbformat_minor": 0
}
