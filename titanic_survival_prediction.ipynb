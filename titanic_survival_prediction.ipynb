{
 "cells": [
  {
   "cell_type": "code",
   "execution_count": 0,
   "metadata": {
    "application/vnd.databricks.v1+cell": {
     "cellMetadata": {
      "byteLimit": 2048000,
      "rowLimit": 10000
     },
     "inputWidgets": {},
     "nuid": "727e12f1-5ea0-46ba-9254-101843d1931e",
     "showTitle": false,
     "title": ""
    }
   },
   "outputs": [],
   "source": [
    "import pyspark\n",
    "from pyspark.sql import SparkSession\n",
    "from pyspark.ml.linalg import Vectors\n",
    "from pyspark.ml.feature import VectorAssembler, StringIndexer, VectorIndexer, OneHotEncoder\n",
    "from pyspark.ml.evaluation import BinaryClassificationEvaluator, MulticlassClassificationEvaluator\n",
    "from pyspark.ml.classification import LogisticRegression\n",
    "from pyspark.ml import Pipeline\n",
    "\n",
    "spark = SparkSession.builder.appName('lg').getOrCreate()"
   ]
  },
  {
   "cell_type": "code",
   "execution_count": 0,
   "metadata": {
    "application/vnd.databricks.v1+cell": {
     "cellMetadata": {
      "byteLimit": 2048000,
      "rowLimit": 10000
     },
     "inputWidgets": {},
     "nuid": "56ea194b-9d8a-4842-8f3e-5448e08cfe72",
     "showTitle": false,
     "title": ""
    }
   },
   "outputs": [],
   "source": [
    "my_data = spark.read.format('libsvm').load('/FileStore/tables/sample_libsvm_data.txt')"
   ]
  },
  {
   "cell_type": "code",
   "execution_count": 0,
   "metadata": {
    "application/vnd.databricks.v1+cell": {
     "cellMetadata": {
      "byteLimit": 2048000,
      "rowLimit": 10000
     },
     "inputWidgets": {},
     "nuid": "4a9a7d06-92cb-434d-88fe-4b7c810a4034",
     "showTitle": false,
     "title": ""
    }
   },
   "outputs": [
    {
     "output_type": "stream",
     "name": "stdout",
     "output_type": "stream",
     "text": [
      "+-----+--------------------+\n|label|            features|\n+-----+--------------------+\n|  0.0|(692,[127,128,129...|\n|  1.0|(692,[158,159,160...|\n|  1.0|(692,[124,125,126...|\n|  1.0|(692,[152,153,154...|\n|  1.0|(692,[151,152,153...|\n|  0.0|(692,[129,130,131...|\n|  1.0|(692,[158,159,160...|\n|  1.0|(692,[99,100,101,...|\n|  0.0|(692,[154,155,156...|\n|  0.0|(692,[127,128,129...|\n|  1.0|(692,[154,155,156...|\n|  0.0|(692,[153,154,155...|\n|  0.0|(692,[151,152,153...|\n|  1.0|(692,[129,130,131...|\n|  0.0|(692,[154,155,156...|\n|  1.0|(692,[150,151,152...|\n|  0.0|(692,[124,125,126...|\n|  0.0|(692,[152,153,154...|\n|  1.0|(692,[97,98,99,12...|\n|  1.0|(692,[124,125,126...|\n+-----+--------------------+\nonly showing top 20 rows\n\n"
     ]
    }
   ],
   "source": [
    "my_data.show()"
   ]
  },
  {
   "cell_type": "code",
   "execution_count": 0,
   "metadata": {
    "application/vnd.databricks.v1+cell": {
     "cellMetadata": {
      "byteLimit": 2048000,
      "rowLimit": 10000
     },
     "inputWidgets": {},
     "nuid": "7999b03d-9921-4ab2-8d3a-f0a8e2d1c5eb",
     "showTitle": false,
     "title": ""
    }
   },
   "outputs": [],
   "source": [
    "my_log_reg_model = LogisticRegression()"
   ]
  },
  {
   "cell_type": "code",
   "execution_count": 0,
   "metadata": {
    "application/vnd.databricks.v1+cell": {
     "cellMetadata": {
      "byteLimit": 2048000,
      "rowLimit": 10000
     },
     "inputWidgets": {},
     "nuid": "aa78966e-c057-42b6-9bc4-6c7f8d6f59af",
     "showTitle": false,
     "title": ""
    }
   },
   "outputs": [],
   "source": [
    "fitted_logreg = my_log_reg_model.fit(my_data)"
   ]
  },
  {
   "cell_type": "code",
   "execution_count": 0,
   "metadata": {
    "application/vnd.databricks.v1+cell": {
     "cellMetadata": {
      "byteLimit": 2048000,
      "rowLimit": 10000
     },
     "inputWidgets": {},
     "nuid": "94847761-8404-48b5-9447-2a62805bca68",
     "showTitle": false,
     "title": ""
    }
   },
   "outputs": [],
   "source": [
    "log_summary = fitted_logreg.summary"
   ]
  },
  {
   "cell_type": "code",
   "execution_count": 0,
   "metadata": {
    "application/vnd.databricks.v1+cell": {
     "cellMetadata": {
      "byteLimit": 2048000,
      "rowLimit": 10000
     },
     "inputWidgets": {},
     "nuid": "f8bc2285-09eb-474e-9dd6-4cabfbdddfec",
     "showTitle": false,
     "title": ""
    }
   },
   "outputs": [
    {
     "output_type": "stream",
     "name": "stdout",
     "output_type": "stream",
     "text": [
      "root\n |-- label: double (nullable = true)\n |-- features: vector (nullable = true)\n |-- rawPrediction: vector (nullable = true)\n |-- probability: vector (nullable = true)\n |-- prediction: double (nullable = false)\n\n"
     ]
    }
   ],
   "source": [
    "log_summary.predictions.printSchema()"
   ]
  },
  {
   "cell_type": "code",
   "execution_count": 0,
   "metadata": {
    "application/vnd.databricks.v1+cell": {
     "cellMetadata": {
      "byteLimit": 2048000,
      "rowLimit": 10000
     },
     "inputWidgets": {},
     "nuid": "f72edebd-a227-4ee7-9da4-3f29de6117ce",
     "showTitle": false,
     "title": ""
    }
   },
   "outputs": [
    {
     "output_type": "stream",
     "name": "stdout",
     "output_type": "stream",
     "text": [
      "+-----+--------------------+--------------------+--------------------+----------+\n|label|            features|       rawPrediction|         probability|prediction|\n+-----+--------------------+--------------------+--------------------+----------+\n|  0.0|(692,[127,128,129...|[20.3777627514872...|[0.99999999858729...|       0.0|\n|  1.0|(692,[158,159,160...|[-21.114014198868...|[6.76550380000486...|       1.0|\n|  1.0|(692,[124,125,126...|[-23.743613234676...|[4.87842678716171...|       1.0|\n|  1.0|(692,[152,153,154...|[-19.192574012720...|[4.62137287298141...|       1.0|\n|  1.0|(692,[151,152,153...|[-20.125398874699...|[1.81823629113070...|       1.0|\n|  0.0|(692,[129,130,131...|[20.4890549504196...|[0.99999999873608...|       0.0|\n|  1.0|(692,[158,159,160...|[-21.082940212814...|[6.97903542823781...|       1.0|\n|  1.0|(692,[99,100,101,...|[-19.622713503550...|[3.00582577446123...|       1.0|\n|  0.0|(692,[154,155,156...|[21.1594863606582...|[0.99999999935352...|       0.0|\n|  0.0|(692,[127,128,129...|[28.1036706837287...|[0.99999999999937...|       0.0|\n|  1.0|(692,[154,155,156...|[-21.054076780106...|[7.18340962960319...|       1.0|\n|  0.0|(692,[153,154,155...|[26.9648490510184...|[0.99999999999805...|       0.0|\n|  0.0|(692,[151,152,153...|[32.7855654161400...|[0.99999999999999...|       0.0|\n|  1.0|(692,[129,130,131...|[-20.331839179667...|[1.47908944089725...|       1.0|\n|  0.0|(692,[154,155,156...|[21.7830579106564...|[0.99999999965347...|       0.0|\n|  1.0|(692,[150,151,152...|[-20.640562103728...|[1.08621994880355...|       1.0|\n|  0.0|(692,[124,125,126...|[22.6400775503731...|[0.99999999985292...|       0.0|\n|  0.0|(692,[152,153,154...|[38.0712919910909...|           [1.0,0.0]|       0.0|\n|  1.0|(692,[97,98,99,12...|[-19.830803265627...|[2.44113371545875...|       1.0|\n|  1.0|(692,[124,125,126...|[-21.016054806036...|[7.46179590484091...|       1.0|\n+-----+--------------------+--------------------+--------------------+----------+\nonly showing top 20 rows\n\n"
     ]
    }
   ],
   "source": [
    "log_summary.predictions.show()"
   ]
  },
  {
   "cell_type": "code",
   "execution_count": 0,
   "metadata": {
    "application/vnd.databricks.v1+cell": {
     "cellMetadata": {
      "byteLimit": 2048000,
      "rowLimit": 10000
     },
     "inputWidgets": {},
     "nuid": "09771b17-e032-4497-acab-37ab36aa9f90",
     "showTitle": false,
     "title": ""
    }
   },
   "outputs": [],
   "source": [
    "train_data, test_data = my_data.randomSplit([0.7, 0.3])"
   ]
  },
  {
   "cell_type": "code",
   "execution_count": 0,
   "metadata": {
    "application/vnd.databricks.v1+cell": {
     "cellMetadata": {
      "byteLimit": 2048000,
      "rowLimit": 10000
     },
     "inputWidgets": {},
     "nuid": "3c5a6381-75e3-402f-a062-874dbbb8702d",
     "showTitle": false,
     "title": ""
    }
   },
   "outputs": [],
   "source": [
    "final_model = LogisticRegression()"
   ]
  },
  {
   "cell_type": "code",
   "execution_count": 0,
   "metadata": {
    "application/vnd.databricks.v1+cell": {
     "cellMetadata": {
      "byteLimit": 2048000,
      "rowLimit": 10000
     },
     "inputWidgets": {},
     "nuid": "0c719d63-1b05-4ad2-92c2-abb104c4579f",
     "showTitle": false,
     "title": ""
    }
   },
   "outputs": [],
   "source": [
    "fit_final = final_model.fit(train_data)"
   ]
  },
  {
   "cell_type": "code",
   "execution_count": 0,
   "metadata": {
    "application/vnd.databricks.v1+cell": {
     "cellMetadata": {
      "byteLimit": 2048000,
      "rowLimit": 10000
     },
     "inputWidgets": {},
     "nuid": "3a499d4e-583d-4a3b-ac01-055c22724045",
     "showTitle": false,
     "title": ""
    }
   },
   "outputs": [],
   "source": [
    "prediction_and_labels = fit_final.evaluate(test_data)"
   ]
  },
  {
   "cell_type": "code",
   "execution_count": 0,
   "metadata": {
    "application/vnd.databricks.v1+cell": {
     "cellMetadata": {
      "byteLimit": 2048000,
      "rowLimit": 10000
     },
     "inputWidgets": {},
     "nuid": "28514072-cb1d-4ccf-8e19-e5b740979436",
     "showTitle": false,
     "title": ""
    }
   },
   "outputs": [
    {
     "output_type": "stream",
     "name": "stdout",
     "output_type": "stream",
     "text": [
      "+-----+--------------------+--------------------+--------------------+----------+\n|label|            features|       rawPrediction|         probability|prediction|\n+-----+--------------------+--------------------+--------------------+----------+\n|  0.0|(692,[100,101,102...|[1.06716865668288...|[0.74405809982817...|       0.0|\n|  0.0|(692,[122,123,148...|[25.0706334208581...|[0.99999999998705...|       0.0|\n|  0.0|(692,[124,125,126...|[32.2589903885369...|[0.99999999999999...|       0.0|\n|  0.0|(692,[124,125,126...|[21.8913447447191...|[0.99999999968903...|       0.0|\n|  0.0|(692,[125,126,127...|[28.8458293304406...|[0.99999999999970...|       0.0|\n|  0.0|(692,[126,127,128...|[31.1476816293643...|[0.99999999999997...|       0.0|\n|  0.0|(692,[128,129,130...|[20.8658666922771...|[0.99999999913289...|       0.0|\n|  0.0|(692,[152,153,154...|[12.7012447276367...|[0.99999695267918...|       0.0|\n|  0.0|(692,[154,155,156...|[20.0746311480985...|[0.99999999808707...|       0.0|\n|  0.0|(692,[181,182,183...|[12.8578375136516...|[0.99999739438055...|       0.0|\n|  1.0|(692,[99,100,101,...|[-9.6969438944834...|[6.14672918992744...|       1.0|\n|  1.0|(692,[100,101,102...|[-27.934923956746...|[7.37932559891029...|       1.0|\n|  1.0|(692,[123,124,125...|[-18.957028818739...|[5.84880292651336...|       1.0|\n|  1.0|(692,[124,125,126...|[-23.561989534794...|[5.85002823707032...|       1.0|\n|  1.0|(692,[125,126,127...|[-21.572880208523...|[4.27579786896449...|       1.0|\n|  1.0|(692,[126,127,128...|[-22.387157895434...|[1.89400386291760...|       1.0|\n|  1.0|(692,[126,127,128...|[-21.096087124316...|[6.88788316542453...|       1.0|\n|  1.0|(692,[127,128,129...|[-24.231423946224...|[2.99520320300513...|       1.0|\n|  1.0|(692,[127,128,155...|[-21.666114105713...|[3.89516805151100...|       1.0|\n|  1.0|(692,[128,129,130...|[-24.420983951353...|[2.47800071452880...|       1.0|\n+-----+--------------------+--------------------+--------------------+----------+\nonly showing top 20 rows\n\n"
     ]
    }
   ],
   "source": [
    "prediction_and_labels.predictions.show()"
   ]
  },
  {
   "cell_type": "code",
   "execution_count": 0,
   "metadata": {
    "application/vnd.databricks.v1+cell": {
     "cellMetadata": {
      "byteLimit": 2048000,
      "rowLimit": 10000
     },
     "inputWidgets": {},
     "nuid": "6f8369b3-6340-4d5e-b60b-d5c8bd465b22",
     "showTitle": false,
     "title": ""
    }
   },
   "outputs": [],
   "source": [
    "my_eval = BinaryClassificationEvaluator()"
   ]
  },
  {
   "cell_type": "code",
   "execution_count": 0,
   "metadata": {
    "application/vnd.databricks.v1+cell": {
     "cellMetadata": {
      "byteLimit": 2048000,
      "rowLimit": 10000
     },
     "inputWidgets": {},
     "nuid": "3e683784-8380-43a2-84dc-07864f67ccea",
     "showTitle": false,
     "title": ""
    }
   },
   "outputs": [],
   "source": [
    "my_final_roc = my_eval.evaluate(prediction_and_labels.predictions)"
   ]
  },
  {
   "cell_type": "code",
   "execution_count": 0,
   "metadata": {
    "application/vnd.databricks.v1+cell": {
     "cellMetadata": {
      "byteLimit": 2048000,
      "rowLimit": 10000
     },
     "inputWidgets": {},
     "nuid": "8f8af84d-413d-4ff5-a6dc-c81f0006aaca",
     "showTitle": false,
     "title": ""
    }
   },
   "outputs": [
    {
     "output_type": "stream",
     "name": "stdout",
     "output_type": "stream",
     "text": [
      "Out[33]: 1.0"
     ]
    }
   ],
   "source": [
    "my_final_roc"
   ]
  },
  {
   "cell_type": "markdown",
   "metadata": {
    "application/vnd.databricks.v1+cell": {
     "cellMetadata": {},
     "inputWidgets": {},
     "nuid": "9e1c7bd6-eb61-4296-80c7-212d35fbf447",
     "showTitle": false,
     "title": ""
    }
   },
   "source": [
    "Titanic Survival Prediction"
   ]
  },
  {
   "cell_type": "code",
   "execution_count": 0,
   "metadata": {
    "application/vnd.databricks.v1+cell": {
     "cellMetadata": {
      "byteLimit": 2048000,
      "rowLimit": 10000
     },
     "inputWidgets": {},
     "nuid": "89745bca-08f6-4fbc-bfe8-1286b6ba3de5",
     "showTitle": false,
     "title": ""
    }
   },
   "outputs": [],
   "source": [
    "df = spark.read.csv('/FileStore/tables/titanic.csv', inferSchema=True, header=True)"
   ]
  },
  {
   "cell_type": "code",
   "execution_count": 0,
   "metadata": {
    "application/vnd.databricks.v1+cell": {
     "cellMetadata": {
      "byteLimit": 2048000,
      "rowLimit": 10000
     },
     "inputWidgets": {},
     "nuid": "4eed95d8-0d23-4caa-9d3a-fb6fe78c0bc5",
     "showTitle": false,
     "title": ""
    }
   },
   "outputs": [
    {
     "output_type": "stream",
     "name": "stdout",
     "output_type": "stream",
     "text": [
      "root\n |-- PassengerId: integer (nullable = true)\n |-- Survived: integer (nullable = true)\n |-- Pclass: integer (nullable = true)\n |-- Name: string (nullable = true)\n |-- Sex: string (nullable = true)\n |-- Age: double (nullable = true)\n |-- SibSp: integer (nullable = true)\n |-- Parch: integer (nullable = true)\n |-- Ticket: string (nullable = true)\n |-- Fare: double (nullable = true)\n |-- Cabin: string (nullable = true)\n |-- Embarked: string (nullable = true)\n\n"
     ]
    }
   ],
   "source": [
    "df.printSchema()"
   ]
  },
  {
   "cell_type": "code",
   "execution_count": 0,
   "metadata": {
    "application/vnd.databricks.v1+cell": {
     "cellMetadata": {
      "byteLimit": 2048000,
      "rowLimit": 10000
     },
     "inputWidgets": {},
     "nuid": "11be7120-a8ad-4a4a-a3e0-380a3ab1bdd5",
     "showTitle": false,
     "title": ""
    }
   },
   "outputs": [
    {
     "output_type": "stream",
     "name": "stdout",
     "output_type": "stream",
     "text": [
      "+-----------+--------+------+--------------------+------+----+-----+-----+----------------+-------+-----+--------+\n|PassengerId|Survived|Pclass|                Name|   Sex| Age|SibSp|Parch|          Ticket|   Fare|Cabin|Embarked|\n+-----------+--------+------+--------------------+------+----+-----+-----+----------------+-------+-----+--------+\n|          1|       0|     3|Braund, Mr. Owen ...|  male|22.0|    1|    0|       A/5 21171|   7.25| null|       S|\n|          2|       1|     1|Cumings, Mrs. Joh...|female|38.0|    1|    0|        PC 17599|71.2833|  C85|       C|\n|          3|       1|     3|Heikkinen, Miss. ...|female|26.0|    0|    0|STON/O2. 3101282|  7.925| null|       S|\n|          4|       1|     1|Futrelle, Mrs. Ja...|female|35.0|    1|    0|          113803|   53.1| C123|       S|\n|          5|       0|     3|Allen, Mr. Willia...|  male|35.0|    0|    0|          373450|   8.05| null|       S|\n|          6|       0|     3|    Moran, Mr. James|  male|null|    0|    0|          330877| 8.4583| null|       Q|\n|          7|       0|     1|McCarthy, Mr. Tim...|  male|54.0|    0|    0|           17463|51.8625|  E46|       S|\n|          8|       0|     3|Palsson, Master. ...|  male| 2.0|    3|    1|          349909| 21.075| null|       S|\n|          9|       1|     3|Johnson, Mrs. Osc...|female|27.0|    0|    2|          347742|11.1333| null|       S|\n|         10|       1|     2|Nasser, Mrs. Nich...|female|14.0|    1|    0|          237736|30.0708| null|       C|\n|         11|       1|     3|Sandstrom, Miss. ...|female| 4.0|    1|    1|         PP 9549|   16.7|   G6|       S|\n|         12|       1|     1|Bonnell, Miss. El...|female|58.0|    0|    0|          113783|  26.55| C103|       S|\n|         13|       0|     3|Saundercock, Mr. ...|  male|20.0|    0|    0|       A/5. 2151|   8.05| null|       S|\n|         14|       0|     3|Andersson, Mr. An...|  male|39.0|    1|    5|          347082| 31.275| null|       S|\n|         15|       0|     3|Vestrom, Miss. Hu...|female|14.0|    0|    0|          350406| 7.8542| null|       S|\n|         16|       1|     2|Hewlett, Mrs. (Ma...|female|55.0|    0|    0|          248706|   16.0| null|       S|\n|         17|       0|     3|Rice, Master. Eugene|  male| 2.0|    4|    1|          382652| 29.125| null|       Q|\n|         18|       1|     2|Williams, Mr. Cha...|  male|null|    0|    0|          244373|   13.0| null|       S|\n|         19|       0|     3|Vander Planke, Mr...|female|31.0|    1|    0|          345763|   18.0| null|       S|\n|         20|       1|     3|Masselmani, Mrs. ...|female|null|    0|    0|            2649|  7.225| null|       C|\n+-----------+--------+------+--------------------+------+----+-----+-----+----------------+-------+-----+--------+\nonly showing top 20 rows\n\n"
     ]
    }
   ],
   "source": [
    "df.show()"
   ]
  },
  {
   "cell_type": "code",
   "execution_count": 0,
   "metadata": {
    "application/vnd.databricks.v1+cell": {
     "cellMetadata": {
      "byteLimit": 2048000,
      "rowLimit": 10000
     },
     "inputWidgets": {},
     "nuid": "5a8554a1-3555-410a-82d2-8e4026cf1683",
     "showTitle": false,
     "title": ""
    }
   },
   "outputs": [
    {
     "output_type": "stream",
     "name": "stdout",
     "output_type": "stream",
     "text": [
      "Out[38]: ['PassengerId',\n 'Survived',\n 'Pclass',\n 'Name',\n 'Sex',\n 'Age',\n 'SibSp',\n 'Parch',\n 'Ticket',\n 'Fare',\n 'Cabin',\n 'Embarked']"
     ]
    }
   ],
   "source": [
    "df.columns"
   ]
  },
  {
   "cell_type": "code",
   "execution_count": 0,
   "metadata": {
    "application/vnd.databricks.v1+cell": {
     "cellMetadata": {
      "byteLimit": 2048000,
      "rowLimit": 10000
     },
     "inputWidgets": {},
     "nuid": "3bd84782-496e-4bdb-8422-df69f9ad3a8f",
     "showTitle": false,
     "title": ""
    }
   },
   "outputs": [],
   "source": [
    "my_cols = df.select(['Survived', 'Pclass', 'Sex', 'Age', 'SibSp', 'Parch', 'Fare', 'Embarked'])"
   ]
  },
  {
   "cell_type": "code",
   "execution_count": 0,
   "metadata": {
    "application/vnd.databricks.v1+cell": {
     "cellMetadata": {
      "byteLimit": 2048000,
      "rowLimit": 10000
     },
     "inputWidgets": {},
     "nuid": "2492b24b-2c01-4f67-bca0-aec11cc78ed7",
     "showTitle": false,
     "title": ""
    }
   },
   "outputs": [],
   "source": [
    "my_final_data = my_cols.na.drop()"
   ]
  },
  {
   "cell_type": "code",
   "execution_count": 0,
   "metadata": {
    "application/vnd.databricks.v1+cell": {
     "cellMetadata": {
      "byteLimit": 2048000,
      "rowLimit": 10000
     },
     "inputWidgets": {},
     "nuid": "a71dddbd-6f7b-4675-86d8-ed614eb991fe",
     "showTitle": false,
     "title": ""
    }
   },
   "outputs": [
    {
     "output_type": "stream",
     "name": "stdout",
     "output_type": "stream",
     "text": [
      "+--------+------+------+----+-----+-----+-------+--------+\n|Survived|Pclass|   Sex| Age|SibSp|Parch|   Fare|Embarked|\n+--------+------+------+----+-----+-----+-------+--------+\n|       0|     3|  male|22.0|    1|    0|   7.25|       S|\n|       1|     1|female|38.0|    1|    0|71.2833|       C|\n|       1|     3|female|26.0|    0|    0|  7.925|       S|\n|       1|     1|female|35.0|    1|    0|   53.1|       S|\n|       0|     3|  male|35.0|    0|    0|   8.05|       S|\n|       0|     1|  male|54.0|    0|    0|51.8625|       S|\n|       0|     3|  male| 2.0|    3|    1| 21.075|       S|\n|       1|     3|female|27.0|    0|    2|11.1333|       S|\n|       1|     2|female|14.0|    1|    0|30.0708|       C|\n|       1|     3|female| 4.0|    1|    1|   16.7|       S|\n|       1|     1|female|58.0|    0|    0|  26.55|       S|\n|       0|     3|  male|20.0|    0|    0|   8.05|       S|\n|       0|     3|  male|39.0|    1|    5| 31.275|       S|\n|       0|     3|female|14.0|    0|    0| 7.8542|       S|\n|       1|     2|female|55.0|    0|    0|   16.0|       S|\n|       0|     3|  male| 2.0|    4|    1| 29.125|       Q|\n|       0|     3|female|31.0|    1|    0|   18.0|       S|\n|       0|     2|  male|35.0|    0|    0|   26.0|       S|\n|       1|     2|  male|34.0|    0|    0|   13.0|       S|\n|       1|     3|female|15.0|    0|    0| 8.0292|       Q|\n+--------+------+------+----+-----+-----+-------+--------+\nonly showing top 20 rows\n\n"
     ]
    }
   ],
   "source": [
    "my_final_data.show()"
   ]
  },
  {
   "cell_type": "code",
   "execution_count": 0,
   "metadata": {
    "application/vnd.databricks.v1+cell": {
     "cellMetadata": {
      "byteLimit": 2048000,
      "rowLimit": 10000
     },
     "inputWidgets": {},
     "nuid": "6e3c65c4-06ff-4e9c-9fb5-a09f6b6e1590",
     "showTitle": false,
     "title": ""
    }
   },
   "outputs": [],
   "source": [
    "gender_indexer = StringIndexer(inputCol='Sex', outputCol='SexIndex')\n",
    "gender_encoder = OneHotEncoder(inputCol='SexIndex', outputCol='SexVec')"
   ]
  },
  {
   "cell_type": "code",
   "execution_count": 0,
   "metadata": {
    "application/vnd.databricks.v1+cell": {
     "cellMetadata": {
      "byteLimit": 2048000,
      "rowLimit": 10000
     },
     "inputWidgets": {},
     "nuid": "8a09c15c-0630-4fca-97bf-e13a91140126",
     "showTitle": false,
     "title": ""
    }
   },
   "outputs": [],
   "source": [
    "embark_indexer = StringIndexer(inputCol='Embarked', outputCol='EmbarkIndex')\n",
    "embark_encoder = OneHotEncoder(inputCol='EmbarkIndex', outputCol='EmbarkVec')"
   ]
  },
  {
   "cell_type": "code",
   "execution_count": 0,
   "metadata": {
    "application/vnd.databricks.v1+cell": {
     "cellMetadata": {
      "byteLimit": 2048000,
      "rowLimit": 10000
     },
     "inputWidgets": {},
     "nuid": "f241532b-35d0-4ea2-bda1-8a6243ae0c26",
     "showTitle": false,
     "title": ""
    }
   },
   "outputs": [],
   "source": [
    "assembler = VectorAssembler(inputCols=['Pclass', 'SexVec', 'EmbarkVec', 'Age', 'SibSp', 'Parch', 'Fare'], outputCol='features')"
   ]
  },
  {
   "cell_type": "code",
   "execution_count": 0,
   "metadata": {
    "application/vnd.databricks.v1+cell": {
     "cellMetadata": {
      "byteLimit": 2048000,
      "rowLimit": 10000
     },
     "inputWidgets": {},
     "nuid": "7c322a5e-a7cd-4807-a05a-9b5b5fbe7587",
     "showTitle": false,
     "title": ""
    }
   },
   "outputs": [],
   "source": [
    "log_reg_titanic = LogisticRegression(featuresCol='features', labelCol='Survived')"
   ]
  },
  {
   "cell_type": "code",
   "execution_count": 0,
   "metadata": {
    "application/vnd.databricks.v1+cell": {
     "cellMetadata": {
      "byteLimit": 2048000,
      "rowLimit": 10000
     },
     "inputWidgets": {},
     "nuid": "cfd4bfdb-ed5f-4378-8ead-be9056bb1e8f",
     "showTitle": false,
     "title": ""
    }
   },
   "outputs": [],
   "source": [
    "pipeline = Pipeline(stages=[gender_indexer, embark_indexer,\n",
    "                            gender_encoder, embark_encoder,\n",
    "                            assembler, log_reg_titanic])"
   ]
  },
  {
   "cell_type": "code",
   "execution_count": 0,
   "metadata": {
    "application/vnd.databricks.v1+cell": {
     "cellMetadata": {
      "byteLimit": 2048000,
      "rowLimit": 10000
     },
     "inputWidgets": {},
     "nuid": "420b3f64-1962-4c7e-83b1-84a9965bc1f7",
     "showTitle": false,
     "title": ""
    }
   },
   "outputs": [],
   "source": [
    "train_data, test_data = my_final_data.randomSplit([0.7, 0.3])"
   ]
  },
  {
   "cell_type": "code",
   "execution_count": 0,
   "metadata": {
    "application/vnd.databricks.v1+cell": {
     "cellMetadata": {
      "byteLimit": 2048000,
      "rowLimit": 10000
     },
     "inputWidgets": {},
     "nuid": "27f70726-2ac2-42f4-9579-d1460e7d64ed",
     "showTitle": false,
     "title": ""
    }
   },
   "outputs": [],
   "source": [
    "fit_model = pipeline.fit(train_data)"
   ]
  },
  {
   "cell_type": "code",
   "execution_count": 0,
   "metadata": {
    "application/vnd.databricks.v1+cell": {
     "cellMetadata": {
      "byteLimit": 2048000,
      "rowLimit": 10000
     },
     "inputWidgets": {},
     "nuid": "85d2c124-d0f7-4af9-a003-4d5b0ad9f9ed",
     "showTitle": false,
     "title": ""
    }
   },
   "outputs": [],
   "source": [
    "results = fit_model.transform(test_data)"
   ]
  },
  {
   "cell_type": "code",
   "execution_count": 0,
   "metadata": {
    "application/vnd.databricks.v1+cell": {
     "cellMetadata": {
      "byteLimit": 2048000,
      "rowLimit": 10000
     },
     "inputWidgets": {},
     "nuid": "4d1f6026-de3f-41ff-987e-b51303ce4e73",
     "showTitle": false,
     "title": ""
    }
   },
   "outputs": [],
   "source": [
    "my_eval = BinaryClassificationEvaluator(rawPredictionCol='prediction', labelCol='Survived')"
   ]
  },
  {
   "cell_type": "code",
   "execution_count": 0,
   "metadata": {
    "application/vnd.databricks.v1+cell": {
     "cellMetadata": {
      "byteLimit": 2048000,
      "rowLimit": 10000
     },
     "inputWidgets": {},
     "nuid": "a025acc4-fd22-459c-8963-f83d4b5359b1",
     "showTitle": false,
     "title": ""
    }
   },
   "outputs": [
    {
     "output_type": "stream",
     "name": "stdout",
     "output_type": "stream",
     "text": [
      "+--------+------+------+----+-----+-----+-------+--------+--------+-----------+-------------+-------------+--------------------+--------------------+--------------------+----------+\n|Survived|Pclass|   Sex| Age|SibSp|Parch|   Fare|Embarked|SexIndex|EmbarkIndex|       SexVec|    EmbarkVec|            features|       rawPrediction|         probability|prediction|\n+--------+------+------+----+-----+-----+-------+--------+--------+-----------+-------------+-------------+--------------------+--------------------+--------------------+----------+\n|       0|     1|  male|24.0|    0|    0|   79.2|       C|     0.0|        1.0|(1,[0],[1.0])|(2,[1],[1.0])|[1.0,1.0,0.0,1.0,...|[-0.8914104800532...|[0.29081883964820...|       1.0|\n|       0|     1|  male|28.0|    1|    0|82.1708|       C|     0.0|        1.0|(1,[0],[1.0])|(2,[1],[1.0])|[1.0,1.0,0.0,1.0,...|[-0.3703837874362...|[0.40844828824825...|       1.0|\n|       0|     1|  male|29.0|    0|    0|   30.0|       S|     0.0|        0.0|(1,[0],[1.0])|(2,[0],[1.0])|[1.0,1.0,1.0,0.0,...|[-0.0709385571015...|[0.48227279412151...|       1.0|\n|       0|     1|  male|29.0|    1|    0|   66.6|       S|     0.0|        0.0|(1,[0],[1.0])|(2,[0],[1.0])|[1.0,1.0,1.0,0.0,...|[0.25710594236522...|[0.56392473572579...|       0.0|\n|       0|     1|  male|30.0|    0|    0|  27.75|       C|     0.0|        1.0|(1,[0],[1.0])|(2,[1],[1.0])|[1.0,1.0,0.0,1.0,...|[-0.6007617776314...|[0.35416943040167...|       1.0|\n|       0|     1|  male|31.0|    1|    0|   52.0|       S|     0.0|        0.0|(1,[0],[1.0])|(2,[0],[1.0])|[1.0,1.0,1.0,0.0,...|[0.35101000956528...|[0.58686248215978...|       0.0|\n|       0|     1|  male|39.0|    0|    0|    0.0|       S|     0.0|        0.0|(1,[0],[1.0])|(2,[0],[1.0])|(8,[0,1,2,4],[1.0...|[0.34835046709136...|[0.58621751441406...|       0.0|\n|       0|     1|  male|42.0|    1|    0|   52.0|       S|     0.0|        0.0|(1,[0],[1.0])|(2,[0],[1.0])|[1.0,1.0,1.0,0.0,...|[0.77367832479033...|[0.68431605158755...|       0.0|\n|       0|     1|  male|45.0|    0|    0|   35.5|       S|     0.0|        0.0|(1,[0],[1.0])|(2,[0],[1.0])|[1.0,1.0,1.0,0.0,...|[0.53742678435828...|[0.63121361942443...|       0.0|\n|       0|     1|  male|47.0|    0|    0|25.5875|       S|     0.0|        0.0|(1,[0],[1.0])|(2,[0],[1.0])|[1.0,1.0,1.0,0.0,...|[0.62585505448631...|[0.65154901530901...|       0.0|\n|       0|     1|  male|47.0|    0|    0|34.0208|       S|     0.0|        0.0|(1,[0],[1.0])|(2,[0],[1.0])|[1.0,1.0,1.0,0.0,...|[0.61600352607083...|[0.64930906818187...|       0.0|\n|       0|     1|  male|50.0|    1|    0|106.425|       C|     0.0|        1.0|(1,[0],[1.0])|(2,[1],[1.0])|[1.0,1.0,0.0,1.0,...|[0.44661981318037...|[0.60983526434258...|       0.0|\n|       0|     1|  male|61.0|    0|    0|32.3208|       S|     0.0|        0.0|(1,[0],[1.0])|(2,[0],[1.0])|[1.0,1.0,1.0,0.0,...|[1.15593090724689...|[0.76059255342413...|       0.0|\n|       0|     1|  male|61.0|    0|    0|   33.5|       S|     0.0|        0.0|(1,[0],[1.0])|(2,[0],[1.0])|[1.0,1.0,1.0,0.0,...|[1.15455340113332...|[0.76034163120726...|       0.0|\n|       0|     1|  male|65.0|    0|    0|  26.55|       S|     0.0|        0.0|(1,[0],[1.0])|(2,[0],[1.0])|[1.0,1.0,1.0,0.0,...|[1.31636975209820...|[0.78857709381423...|       0.0|\n|       0|     1|  male|71.0|    0|    0|49.5042|       C|     0.0|        1.0|(1,[0],[1.0])|(2,[1],[1.0])|[1.0,1.0,0.0,1.0,...|[0.94922570166070...|[0.72095943371494...|       0.0|\n|       0|     2|female|24.0|    0|    0|   13.0|       S|     1.0|        0.0|    (1,[],[])|(2,[0],[1.0])|(8,[0,2,4,7],[2.0...|[-1.5874661781606...|[0.16974068661056...|       1.0|\n|       0|     2|  male|18.0|    0|    0|   73.5|       S|     0.0|        0.0|(1,[0],[1.0])|(2,[0],[1.0])|[2.0,1.0,1.0,0.0,...|[0.53870058311940...|[0.63151008851185...|       0.0|\n|       0|     2|  male|21.0|    1|    0|   11.5|       S|     0.0|        0.0|(1,[0],[1.0])|(2,[0],[1.0])|[2.0,1.0,1.0,0.0,...|[1.09719982561022...|[0.74973506966961...|       0.0|\n|       0|     2|  male|23.0|    0|    0|   10.5|       S|     0.0|        0.0|(1,[0],[1.0])|(2,[0],[1.0])|[2.0,1.0,1.0,0.0,...|[0.80441725723346...|[0.69091858148968...|       0.0|\n+--------+------+------+----+-----+-----+-------+--------+--------+-----------+-------------+-------------+--------------------+--------------------+--------------------+----------+\nonly showing top 20 rows\n\n"
     ]
    }
   ],
   "source": [
    "results.show()"
   ]
  },
  {
   "cell_type": "code",
   "execution_count": 0,
   "metadata": {
    "application/vnd.databricks.v1+cell": {
     "cellMetadata": {
      "byteLimit": 2048000,
      "rowLimit": 10000
     },
     "inputWidgets": {},
     "nuid": "f2d1376f-317e-4b43-979d-d1088cb83005",
     "showTitle": false,
     "title": ""
    }
   },
   "outputs": [],
   "source": [
    "AUC = my_eval.evaluate(results)"
   ]
  },
  {
   "cell_type": "code",
   "execution_count": 0,
   "metadata": {
    "application/vnd.databricks.v1+cell": {
     "cellMetadata": {
      "byteLimit": 2048000,
      "rowLimit": 10000
     },
     "inputWidgets": {},
     "nuid": "80f67c4c-fc62-46a7-a426-1f25c438ee2e",
     "showTitle": false,
     "title": ""
    }
   },
   "outputs": [
    {
     "output_type": "stream",
     "name": "stdout",
     "output_type": "stream",
     "text": [
      "Out[62]: 0.8367264664382181"
     ]
    }
   ],
   "source": [
    "AUC"
   ]
  }
 ],
 "metadata": {
  "application/vnd.databricks.v1+notebook": {
   "dashboards": [],
   "language": "python",
   "notebookMetadata": {
    "pythonIndentUnit": 4
   },
   "notebookName": "Logistic Regression",
   "widgets": {}
  }
 },
 "nbformat": 4,
 "nbformat_minor": 0
}
