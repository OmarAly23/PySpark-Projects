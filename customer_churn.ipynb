{
 "cells": [
  {
   "cell_type": "code",
   "execution_count": 0,
   "metadata": {
    "application/vnd.databricks.v1+cell": {
     "cellMetadata": {
      "byteLimit": 2048000,
      "rowLimit": 10000
     },
     "inputWidgets": {},
     "nuid": "cd374d34-6302-4be2-bd1e-e804699bd1a3",
     "showTitle": false,
     "title": ""
    }
   },
   "outputs": [],
   "source": [
    "import pyspark\n",
    "from pyspark.sql import SparkSession\n",
    "from pyspark.ml.linalg import Vectors\n",
    "from pyspark.ml.feature import VectorAssembler, StringIndexer, VectorIndexer, OneHotEncoder\n",
    "from pyspark.ml.evaluation import BinaryClassificationEvaluator, MulticlassClassificationEvaluator\n",
    "from pyspark.ml.classification import LogisticRegression\n",
    "from pyspark.ml import Pipeline\n",
    "\n",
    "spark = SparkSession.builder.appName('lg').getOrCreate()"
   ]
  },
  {
   "cell_type": "code",
   "execution_count": 0,
   "metadata": {
    "application/vnd.databricks.v1+cell": {
     "cellMetadata": {
      "byteLimit": 2048000,
      "rowLimit": 10000
     },
     "inputWidgets": {},
     "nuid": "7e15dfa6-0628-44dd-a7f5-b4c73550a190",
     "showTitle": false,
     "title": ""
    }
   },
   "outputs": [],
   "source": [
    "customers = spark.read.csv('/FileStore/tables/customer_churn.csv', inferSchema=True, header=True)"
   ]
  },
  {
   "cell_type": "code",
   "execution_count": 0,
   "metadata": {
    "application/vnd.databricks.v1+cell": {
     "cellMetadata": {
      "byteLimit": 2048000,
      "rowLimit": 10000
     },
     "inputWidgets": {},
     "nuid": "4ccda59f-bbb2-410e-bf50-191ccf7c2186",
     "showTitle": false,
     "title": ""
    }
   },
   "outputs": [
    {
     "output_type": "stream",
     "name": "stdout",
     "output_type": "stream",
     "text": [
      "root\n |-- Names: string (nullable = true)\n |-- Age: double (nullable = true)\n |-- Total_Purchase: double (nullable = true)\n |-- Account_Manager: integer (nullable = true)\n |-- Years: double (nullable = true)\n |-- Num_Sites: double (nullable = true)\n |-- Onboard_date: timestamp (nullable = true)\n |-- Location: string (nullable = true)\n |-- Company: string (nullable = true)\n |-- Churn: integer (nullable = true)\n\n"
     ]
    }
   ],
   "source": [
    "customers.printSchema()"
   ]
  },
  {
   "cell_type": "code",
   "execution_count": 0,
   "metadata": {
    "application/vnd.databricks.v1+cell": {
     "cellMetadata": {
      "byteLimit": 2048000,
      "rowLimit": 10000
     },
     "inputWidgets": {},
     "nuid": "49435f3f-9816-41df-90b6-4ad0a0c39516",
     "showTitle": false,
     "title": ""
    }
   },
   "outputs": [
    {
     "output_type": "stream",
     "name": "stdout",
     "output_type": "stream",
     "text": [
      "+-------------------+----+--------------+---------------+-----+---------+-------------------+--------------------+--------------------+-----+\n|              Names| Age|Total_Purchase|Account_Manager|Years|Num_Sites|       Onboard_date|            Location|             Company|Churn|\n+-------------------+----+--------------+---------------+-----+---------+-------------------+--------------------+--------------------+-----+\n|   Cameron Williams|42.0|       11066.8|              0| 7.22|      8.0|2013-08-30 07:00:40|10265 Elizabeth M...|          Harvey LLC|    1|\n|      Kevin Mueller|41.0|      11916.22|              0|  6.5|     11.0|2013-08-13 00:38:46|6157 Frank Garden...|          Wilson PLC|    1|\n|        Eric Lozano|38.0|      12884.75|              0| 6.67|     12.0|2016-06-29 06:20:07|1331 Keith Court ...|Miller, Johnson a...|    1|\n|      Phillip White|42.0|       8010.76|              0| 6.71|     10.0|2014-04-22 12:43:12|13120 Daniel Moun...|           Smith Inc|    1|\n|     Cynthia Norton|37.0|       9191.58|              0| 5.56|      9.0|2016-01-19 15:31:15|765 Tricia Row Ka...|          Love-Jones|    1|\n|   Jessica Williams|48.0|      10356.02|              0| 5.12|      8.0|2009-03-03 23:13:37|6187 Olson Mounta...|        Kelly-Warren|    1|\n|        Eric Butler|44.0|      11331.58|              1| 5.23|     11.0|2016-12-05 03:35:43|4846 Savannah Roa...|   Reynolds-Sheppard|    1|\n|      Zachary Walsh|32.0|       9885.12|              1| 6.92|      9.0|2006-03-09 14:50:20|25271 Roy Express...|          Singh-Cole|    1|\n|        Ashlee Carr|43.0|       14062.6|              1| 5.46|     11.0|2011-09-29 05:47:23|3725 Caroline Str...|           Lopez PLC|    1|\n|     Jennifer Lynch|40.0|       8066.94|              1| 7.11|     11.0|2006-03-28 15:42:45|363 Sandra Lodge ...|       Reed-Martinez|    1|\n|       Paula Harris|30.0|      11575.37|              1| 5.22|      8.0|2016-11-13 13:13:01|Unit 8120 Box 916...|Briggs, Lamb and ...|    1|\n|     Bruce Phillips|45.0|       8771.02|              1| 6.64|     11.0|2015-05-28 12:14:03|Unit 1895 Box 094...|    Figueroa-Maynard|    1|\n|       Craig Garner|45.0|       8988.67|              1| 4.84|     11.0|2011-02-16 08:10:47|897 Kelley Overpa...|     Abbott-Thompson|    1|\n|       Nicole Olson|40.0|       8283.32|              1|  5.1|     13.0|2012-11-22 05:35:03|11488 Weaver Cape...|Smith, Kim and Ma...|    1|\n|     Harold Griffin|41.0|       6569.87|              1|  4.3|     11.0|2015-03-28 02:13:44|1774 Peter Row Ap...|Snyder, Lee and M...|    1|\n|       James Wright|38.0|      10494.82|              1| 6.81|     12.0|2015-07-22 08:38:40|45408 David Path ...|      Sanders-Pierce|    1|\n|      Doris Wilkins|45.0|       8213.41|              1| 7.35|     11.0|2006-09-03 06:13:55|28216 Wright Moun...|Andrews, Adams an...|    1|\n|Katherine Carpenter|43.0|      11226.88|              0| 8.08|     12.0|2006-10-22 04:42:38|Unit 4948 Box 481...|Morgan, Phillips ...|    1|\n|     Lindsay Martin|53.0|       5515.09|              0| 6.85|      8.0|2015-10-07 00:27:10|69203 Crosby Divi...|      Villanueva LLC|    1|\n|        Kathy Curry|46.0|        8046.4|              1| 5.69|      8.0|2014-11-06 23:47:14|9569 Caldwell Cre...|Berry, Orr and Ca...|    1|\n+-------------------+----+--------------+---------------+-----+---------+-------------------+--------------------+--------------------+-----+\nonly showing top 20 rows\n\n"
     ]
    }
   ],
   "source": [
    "customers.show()"
   ]
  },
  {
   "cell_type": "code",
   "execution_count": 0,
   "metadata": {
    "application/vnd.databricks.v1+cell": {
     "cellMetadata": {
      "byteLimit": 2048000,
      "rowLimit": 10000
     },
     "inputWidgets": {},
     "nuid": "05732ae0-168a-4ea9-acfb-ed37b187139d",
     "showTitle": false,
     "title": ""
    }
   },
   "outputs": [
    {
     "output_type": "stream",
     "name": "stdout",
     "output_type": "stream",
     "text": [
      "Out[5]: ['Names',\n 'Age',\n 'Total_Purchase',\n 'Account_Manager',\n 'Years',\n 'Num_Sites',\n 'Onboard_date',\n 'Location',\n 'Company',\n 'Churn']"
     ]
    }
   ],
   "source": [
    "customers.columns"
   ]
  },
  {
   "cell_type": "code",
   "execution_count": 0,
   "metadata": {
    "application/vnd.databricks.v1+cell": {
     "cellMetadata": {
      "byteLimit": 2048000,
      "rowLimit": 10000
     },
     "inputWidgets": {},
     "nuid": "1e3e2c17-0b6b-4684-96a5-ac22841d2ed0",
     "showTitle": false,
     "title": ""
    }
   },
   "outputs": [],
   "source": [
    "my_cols = customers.select(['Age', 'Total_Purchase', 'Years', 'Num_Sites', 'Company', 'Churn'])"
   ]
  },
  {
   "cell_type": "code",
   "execution_count": 0,
   "metadata": {
    "application/vnd.databricks.v1+cell": {
     "cellMetadata": {
      "byteLimit": 2048000,
      "rowLimit": 10000
     },
     "inputWidgets": {},
     "nuid": "b3ea568e-8ce2-4125-afa2-96e9b586e1eb",
     "showTitle": false,
     "title": ""
    }
   },
   "outputs": [],
   "source": [
    "my_final_data = my_cols.na.drop()"
   ]
  },
  {
   "cell_type": "code",
   "execution_count": 0,
   "metadata": {
    "application/vnd.databricks.v1+cell": {
     "cellMetadata": {
      "byteLimit": 2048000,
      "rowLimit": 10000
     },
     "inputWidgets": {},
     "nuid": "7cd26948-0fb4-45e8-8e61-bb72b49f6f08",
     "showTitle": false,
     "title": ""
    }
   },
   "outputs": [
    {
     "output_type": "stream",
     "name": "stdout",
     "output_type": "stream",
     "text": [
      "+----+--------------+-----+---------+--------------------+-----+\n| Age|Total_Purchase|Years|Num_Sites|             Company|Churn|\n+----+--------------+-----+---------+--------------------+-----+\n|42.0|       11066.8| 7.22|      8.0|          Harvey LLC|    1|\n|41.0|      11916.22|  6.5|     11.0|          Wilson PLC|    1|\n|38.0|      12884.75| 6.67|     12.0|Miller, Johnson a...|    1|\n|42.0|       8010.76| 6.71|     10.0|           Smith Inc|    1|\n|37.0|       9191.58| 5.56|      9.0|          Love-Jones|    1|\n|48.0|      10356.02| 5.12|      8.0|        Kelly-Warren|    1|\n|44.0|      11331.58| 5.23|     11.0|   Reynolds-Sheppard|    1|\n|32.0|       9885.12| 6.92|      9.0|          Singh-Cole|    1|\n|43.0|       14062.6| 5.46|     11.0|           Lopez PLC|    1|\n|40.0|       8066.94| 7.11|     11.0|       Reed-Martinez|    1|\n|30.0|      11575.37| 5.22|      8.0|Briggs, Lamb and ...|    1|\n|45.0|       8771.02| 6.64|     11.0|    Figueroa-Maynard|    1|\n|45.0|       8988.67| 4.84|     11.0|     Abbott-Thompson|    1|\n|40.0|       8283.32|  5.1|     13.0|Smith, Kim and Ma...|    1|\n|41.0|       6569.87|  4.3|     11.0|Snyder, Lee and M...|    1|\n|38.0|      10494.82| 6.81|     12.0|      Sanders-Pierce|    1|\n|45.0|       8213.41| 7.35|     11.0|Andrews, Adams an...|    1|\n|43.0|      11226.88| 8.08|     12.0|Morgan, Phillips ...|    1|\n|53.0|       5515.09| 6.85|      8.0|      Villanueva LLC|    1|\n|46.0|        8046.4| 5.69|      8.0|Berry, Orr and Ca...|    1|\n+----+--------------+-----+---------+--------------------+-----+\nonly showing top 20 rows\n\n"
     ]
    }
   ],
   "source": [
    "my_final_data.show()"
   ]
  },
  {
   "cell_type": "code",
   "execution_count": 0,
   "metadata": {
    "application/vnd.databricks.v1+cell": {
     "cellMetadata": {
      "byteLimit": 2048000,
      "rowLimit": 10000
     },
     "inputWidgets": {},
     "nuid": "24701ab8-e6e0-4661-b400-3dba5bda03e0",
     "showTitle": false,
     "title": ""
    }
   },
   "outputs": [],
   "source": [
    "assembler = VectorAssembler(inputCols=['Age', 'Total_Purchase', 'Years', 'Age', 'Num_Sites'], outputCol='features')"
   ]
  },
  {
   "cell_type": "code",
   "execution_count": 0,
   "metadata": {
    "application/vnd.databricks.v1+cell": {
     "cellMetadata": {
      "byteLimit": 2048000,
      "rowLimit": 10000
     },
     "inputWidgets": {},
     "nuid": "7b44effc-22bd-4880-88b8-9a51ef660723",
     "showTitle": false,
     "title": ""
    }
   },
   "outputs": [],
   "source": [
    "output = assembler.transform(customers)"
   ]
  },
  {
   "cell_type": "code",
   "execution_count": 0,
   "metadata": {
    "application/vnd.databricks.v1+cell": {
     "cellMetadata": {
      "byteLimit": 2048000,
      "rowLimit": 10000
     },
     "inputWidgets": {},
     "nuid": "373ef2c9-636b-4224-bd1f-c5f7b74211ad",
     "showTitle": false,
     "title": ""
    }
   },
   "outputs": [],
   "source": [
    "final_data = output.select('features', 'churn')"
   ]
  },
  {
   "cell_type": "code",
   "execution_count": 0,
   "metadata": {
    "application/vnd.databricks.v1+cell": {
     "cellMetadata": {
      "byteLimit": 2048000,
      "rowLimit": 10000
     },
     "inputWidgets": {},
     "nuid": "06de8a11-2a13-4682-8e78-377aeae87397",
     "showTitle": false,
     "title": ""
    }
   },
   "outputs": [],
   "source": [
    "train_data, test_data = final_data.randomSplit([0.7, 0.3])"
   ]
  },
  {
   "cell_type": "code",
   "execution_count": 0,
   "metadata": {
    "application/vnd.databricks.v1+cell": {
     "cellMetadata": {
      "byteLimit": 2048000,
      "rowLimit": 10000
     },
     "inputWidgets": {},
     "nuid": "e77627af-1273-497a-a657-62c198cebd51",
     "showTitle": false,
     "title": ""
    }
   },
   "outputs": [],
   "source": [
    "log_reg_customer_churn = LogisticRegression(labelCol='churn')"
   ]
  },
  {
   "cell_type": "code",
   "execution_count": 0,
   "metadata": {
    "application/vnd.databricks.v1+cell": {
     "cellMetadata": {
      "byteLimit": 2048000,
      "rowLimit": 10000
     },
     "inputWidgets": {},
     "nuid": "04c0cf52-3f04-49be-a07f-2a5b67260165",
     "showTitle": false,
     "title": ""
    }
   },
   "outputs": [],
   "source": [
    "fitted_churn_model = log_reg_customer_churn.fit(train_data)"
   ]
  },
  {
   "cell_type": "code",
   "execution_count": 0,
   "metadata": {
    "application/vnd.databricks.v1+cell": {
     "cellMetadata": {
      "byteLimit": 2048000,
      "rowLimit": 10000
     },
     "inputWidgets": {},
     "nuid": "2c84e671-4e48-45b5-b27e-d6916e40d20a",
     "showTitle": false,
     "title": ""
    }
   },
   "outputs": [],
   "source": [
    "training_summary = fitted_churn_model.summary"
   ]
  },
  {
   "cell_type": "code",
   "execution_count": 0,
   "metadata": {
    "application/vnd.databricks.v1+cell": {
     "cellMetadata": {
      "byteLimit": 2048000,
      "rowLimit": 10000
     },
     "inputWidgets": {},
     "nuid": "19c502cd-536c-4059-b1e8-2ae2ff563d31",
     "showTitle": false,
     "title": ""
    }
   },
   "outputs": [
    {
     "output_type": "stream",
     "name": "stdout",
     "output_type": "stream",
     "text": [
      "+-------+-------------------+------------------+\n|summary|              churn|        prediction|\n+-------+-------------------+------------------+\n|  count|                629|               629|\n|   mean|0.17488076311605724|0.1287758346581876|\n| stddev|0.38016740374235986|0.3352182419463142|\n|    min|                0.0|               0.0|\n|    max|                1.0|               1.0|\n+-------+-------------------+------------------+\n\n"
     ]
    }
   ],
   "source": [
    "training_summary.predictions.describe().show()"
   ]
  },
  {
   "cell_type": "code",
   "execution_count": 0,
   "metadata": {
    "application/vnd.databricks.v1+cell": {
     "cellMetadata": {
      "byteLimit": 2048000,
      "rowLimit": 10000
     },
     "inputWidgets": {},
     "nuid": "58098e42-f47e-4407-aa80-b3730225b40d",
     "showTitle": false,
     "title": ""
    }
   },
   "outputs": [],
   "source": [
    "pred_and_labels = fitted_churn_model.evaluate(test_data)"
   ]
  },
  {
   "cell_type": "code",
   "execution_count": 0,
   "metadata": {
    "application/vnd.databricks.v1+cell": {
     "cellMetadata": {
      "byteLimit": 2048000,
      "rowLimit": 10000
     },
     "inputWidgets": {},
     "nuid": "01dcba54-09b2-4311-9b55-32e8de5233b8",
     "showTitle": false,
     "title": ""
    }
   },
   "outputs": [
    {
     "output_type": "stream",
     "name": "stdout",
     "output_type": "stream",
     "text": [
      "+--------------------+-----+--------------------+--------------------+----------+\n|            features|churn|       rawPrediction|         probability|prediction|\n+--------------------+-----+--------------------+--------------------+----------+\n|[26.0,8787.39,5.4...|    1|[1.24918389333961...|[0.77715855723495...|       0.0|\n|[26.0,8939.61,4.5...|    0|[6.12668436836594...|[0.99782094895410...|       0.0|\n|[29.0,8688.17,5.7...|    1|[3.02394757973150...|[0.95364434821902...|       0.0|\n|[29.0,10203.18,5....|    0|[3.97133521560907...|[0.98150043458215...|       0.0|\n|[29.0,13240.01,4....|    0|[6.73485220725204...|[0.99881266057484...|       0.0|\n|[30.0,6744.87,5.1...|    0|[3.36470150676569...|[0.96658297052467...|       0.0|\n|[30.0,7960.64,2.7...|    1|[3.63416162706967...|[0.97427327820403...|       0.0|\n|[30.0,10960.52,5....|    0|[2.67672198693172...|[0.93563900772089...|       0.0|\n|[30.0,13473.35,3....|    0|[2.70649364713395...|[0.93740873353258...|       0.0|\n|[31.0,11297.57,6....|    1|[1.32635510935053...|[0.79023708799551...|       0.0|\n|[31.0,11743.24,5....|    0|[6.21884428424951...|[0.99801241282209...|       0.0|\n|[32.0,6367.22,2.8...|    0|[3.47521501780556...|[0.96997427446112...|       0.0|\n|[32.0,8011.38,5.3...|    0|[1.92078631774941...|[0.87222609266603...|       0.0|\n|[32.0,8575.71,4.2...|    0|[3.62526200716384...|[0.97404926645669...|       0.0|\n|[32.0,9885.12,6.9...|    1|[1.99914600768060...|[0.88070738509988...|       0.0|\n|[32.0,11715.72,4....|    0|[3.19548737461779...|[0.96066410553193...|       0.0|\n|[32.0,13630.93,4....|    0|[2.21516093993049...|[0.90160273080110...|       0.0|\n|[33.0,7720.61,4.9...|    0|[2.07490791530256...|[0.88844033325096...|       0.0|\n|[33.0,10306.21,6....|    0|[2.22410202852572...|[0.90239309839071...|       0.0|\n|[33.0,12638.51,5....|    0|[3.99466534292709...|[0.98191932287049...|       0.0|\n+--------------------+-----+--------------------+--------------------+----------+\nonly showing top 20 rows\n\n"
     ]
    }
   ],
   "source": [
    "pred_and_labels.predictions.show()"
   ]
  },
  {
   "cell_type": "code",
   "execution_count": 0,
   "metadata": {
    "application/vnd.databricks.v1+cell": {
     "cellMetadata": {
      "byteLimit": 2048000,
      "rowLimit": 10000
     },
     "inputWidgets": {},
     "nuid": "267de09a-f347-4b21-9ea6-35fbeb81da3e",
     "showTitle": false,
     "title": ""
    }
   },
   "outputs": [],
   "source": [
    "my_eval = BinaryClassificationEvaluator(rawPredictionCol='prediction' ,labelCol='churn')"
   ]
  },
  {
   "cell_type": "code",
   "execution_count": 0,
   "metadata": {
    "application/vnd.databricks.v1+cell": {
     "cellMetadata": {
      "byteLimit": 2048000,
      "rowLimit": 10000
     },
     "inputWidgets": {},
     "nuid": "6b8fedc1-ffdd-4d60-92c6-bbe584cbadf7",
     "showTitle": false,
     "title": ""
    }
   },
   "outputs": [],
   "source": [
    "AUC = my_eval.evaluate(pred_and_labels.predictions)"
   ]
  },
  {
   "cell_type": "code",
   "execution_count": 0,
   "metadata": {
    "application/vnd.databricks.v1+cell": {
     "cellMetadata": {
      "byteLimit": 2048000,
      "rowLimit": 10000
     },
     "inputWidgets": {},
     "nuid": "87872cd9-4e7e-463a-a929-d9d235c93f91",
     "showTitle": false,
     "title": ""
    }
   },
   "outputs": [
    {
     "output_type": "stream",
     "name": "stdout",
     "output_type": "stream",
     "text": [
      "Out[58]: 0.8348484848484848"
     ]
    }
   ],
   "source": [
    "AUC"
   ]
  },
  {
   "cell_type": "code",
   "execution_count": 0,
   "metadata": {
    "application/vnd.databricks.v1+cell": {
     "cellMetadata": {
      "byteLimit": 2048000,
      "rowLimit": 10000
     },
     "inputWidgets": {},
     "nuid": "c76ed4d9-51c9-47e6-860a-7d881373b7b4",
     "showTitle": false,
     "title": ""
    }
   },
   "outputs": [],
   "source": [
    "new_customers = spark.read.csv('/FileStore/tables/new_customers.csv', inferSchema=True, header=True)"
   ]
  },
  {
   "cell_type": "code",
   "execution_count": 0,
   "metadata": {
    "application/vnd.databricks.v1+cell": {
     "cellMetadata": {
      "byteLimit": 2048000,
      "rowLimit": 10000
     },
     "inputWidgets": {},
     "nuid": "80e19197-4c80-4875-9654-b21a326fabef",
     "showTitle": false,
     "title": ""
    }
   },
   "outputs": [],
   "source": [
    "final_lr_model = log_reg_customer_churn.fit(final_data)"
   ]
  },
  {
   "cell_type": "code",
   "execution_count": 0,
   "metadata": {
    "application/vnd.databricks.v1+cell": {
     "cellMetadata": {
      "byteLimit": 2048000,
      "rowLimit": 10000
     },
     "inputWidgets": {},
     "nuid": "1e4f89e7-8326-48be-9cf3-d1bd214704e7",
     "showTitle": false,
     "title": ""
    }
   },
   "outputs": [],
   "source": [
    "test_new_customers = assembler.transform(new_customers)"
   ]
  },
  {
   "cell_type": "code",
   "execution_count": 0,
   "metadata": {
    "application/vnd.databricks.v1+cell": {
     "cellMetadata": {
      "byteLimit": 2048000,
      "rowLimit": 10000
     },
     "inputWidgets": {},
     "nuid": "f6ffc2f7-e335-4b13-b44c-8a7979f09e84",
     "showTitle": false,
     "title": ""
    }
   },
   "outputs": [
    {
     "output_type": "stream",
     "name": "stdout",
     "output_type": "stream",
     "text": [
      "root\n |-- Names: string (nullable = true)\n |-- Age: double (nullable = true)\n |-- Total_Purchase: double (nullable = true)\n |-- Account_Manager: integer (nullable = true)\n |-- Years: double (nullable = true)\n |-- Num_Sites: double (nullable = true)\n |-- Onboard_date: timestamp (nullable = true)\n |-- Location: string (nullable = true)\n |-- Company: string (nullable = true)\n |-- features: vector (nullable = true)\n\n"
     ]
    }
   ],
   "source": [
    "test_new_customers.printSchema()"
   ]
  },
  {
   "cell_type": "code",
   "execution_count": 0,
   "metadata": {
    "application/vnd.databricks.v1+cell": {
     "cellMetadata": {
      "byteLimit": 2048000,
      "rowLimit": 10000
     },
     "inputWidgets": {},
     "nuid": "a744ac81-dce0-4f1b-be99-9b896b53cec9",
     "showTitle": false,
     "title": ""
    }
   },
   "outputs": [],
   "source": [
    "final_results = final_lr_model.transform(test_new_customers)"
   ]
  },
  {
   "cell_type": "code",
   "execution_count": 0,
   "metadata": {
    "application/vnd.databricks.v1+cell": {
     "cellMetadata": {
      "byteLimit": 2048000,
      "rowLimit": 10000
     },
     "inputWidgets": {},
     "nuid": "7ab8d307-4012-4f7a-85b9-5fb8fdbe47b9",
     "showTitle": false,
     "title": ""
    }
   },
   "outputs": [
    {
     "output_type": "stream",
     "name": "stdout",
     "output_type": "stream",
     "text": [
      "+----------------+----------+\n|         Company|prediction|\n+----------------+----------+\n|        King Ltd|       0.0|\n|   Cannon-Benson|       1.0|\n|Barron-Robertson|       1.0|\n|   Sexton-Golden|       1.0|\n|        Wood LLC|       0.0|\n|   Parks-Robbins|       1.0|\n+----------------+----------+\n\n"
     ]
    }
   ],
   "source": [
    "final_results.select('Company', 'prediction').show()"
   ]
  }
 ],
 "metadata": {
  "application/vnd.databricks.v1+notebook": {
   "dashboards": [],
   "language": "python",
   "notebookMetadata": {
    "pythonIndentUnit": 4
   },
   "notebookName": "customer_churn",
   "widgets": {}
  }
 },
 "nbformat": 4,
 "nbformat_minor": 0
}
